import numpy as np
import pandas as pd
import matplotlib.pyplot as plt
from wordcloud import WordCloud, STOPWORDS
stopwords = set(STOPWORDS)
import seaborn as sns
from plotly.offline import init_notebook_mode, iplot
init_notebook_mode()
from collections import Counter
from nltk.corpus import stopwords
stop = set(stopwords.words('english'))
stop.update(['.', ',', '"', "'", '?', '!', ':', ';', '(', ')', '[', ']', '{', '}',''])
from nltk.stem import WordNetLemmatizer


Zomato Restaurants Dataset Analysis (in New Delhi)
res_data = pd.read_csv('zomato.csv', encoding='latin-1')
countryCode_toName = {
    1: "India",
    14: "Australia",
    30: "Brazil",
    37: "Canada",
    94: "Indonesia",
    148: "New Zealand",
    162: "Phillipines",
    166: "Qatar",
    184: "Singapore",
    189: "South Africa",
    191: "Sri Lanka",
    208: "Turkey",
    214: "UAE",
    215: "United Kingdom",
    216: "United States",
}
res_data['Country'] = res_data['Country Code'].apply(lambda x: countryCode_toName[x])
res_data = res_data.loc[(res_data['Country Code'] == 1) & (res_data['City'] == 'New Delhi'), :]
res_data = res_data.loc[res_data['Longitude'] != 0, :]
res_data = res_data.loc[res_data['Latitude'] != 0, :]
res_data = res_data.loc[res_data['Latitude'] < 29] # clearing out invalid outlier
res_data = res_data.loc[res_data['Rating text'] != 'Not rated']
res_data['Cuisines'] = res_data['Cuisines'].astype(str)
res_data['fusion_num'] = res_data['Cuisines'].apply(lambda x: len(x.split(',')))
res_data.info()

<class 'pandas.core.frame.DataFrame'>
Int64Index: 3975 entries, 2561 to 8009
Data columns (total 23 columns):
Restaurant ID           3975 non-null int64
Restaurant Name         3975 non-null object
Country Code            3975 non-null int64
City                    3975 non-null object
Address                 3975 non-null object
Locality                3975 non-null object
Locality Verbose        3975 non-null object
Longitude               3975 non-null float64
Latitude                3975 non-null float64
Cuisines                3975 non-null object
Average Cost for two    3975 non-null int64
Currency                3975 non-null object
Has Table booking       3975 non-null object
Has Online delivery     3975 non-null object
Is delivering now       3975 non-null object
Switch to order menu    3975 non-null object
Price range             3975 non-null int64
Aggregate rating        3975 non-null float64
Rating color            3975 non-null object
Rating text             3975 non-null object
Votes                   3975 non-null int64
Country                 3975 non-null object
fusion_num              3975 non-null int64
dtypes: float64(3), int64(6), object(14)
memory usage: 745.3+ KB
What are the most famous cuisines in New Delhi?


lst_cuisine = set()
Cnt_cuisine = Counter()
for cu_lst in res_data['Cuisines']:
    cu_lst = cu_lst.split(',')
    lst_cuisine.update([cu.strip() for cu in cu_lst])
    for cu in cu_lst:
        Cnt_cuisine[cu.strip()] += 1

cnt = pd.DataFrame.from_dict(Cnt_cuisine, orient = 'index')
cnt.sort_values(0, ascending = False, inplace = True)


tmp_cnt = cnt.head(10)
tmp_cnt.rename(columns = {0:'cnt'}, inplace = True)
with plt.style.context('bmh'):
    f = plt.figure(figsize = (12, 8))
    ax = plt.subplot2grid((2,2), (0,0))
    sns.barplot(x = tmp_cnt.index, y = 'cnt', data = tmp_cnt, ax = ax, palette = sns.color_palette('Blues_d', 10))
    ax.set_title('# Cuisine')
    ax.tick_params(axis='x', rotation=70)
    ax = plt.subplot2grid((2,2), (0,1))
    sns.countplot(res_data['fusion_num'], ax=ax, palette = sns.color_palette('Blues_d', res_data.fusion_num.nunique()))
    ax.set_title('# Cuisine Provided')
    ax.set_ylabel('')
    plt.show()        
print('# Unique Cuisine: ', len(lst_cuisine))
/home/priyanshrastogi/anaconda3/lib/python3.6/site-packages/pandas/core/frame.py:3778: SettingWithCopyWarning:


A value is trying to be set on a copy of a slice from a DataFrame

See the caveats in the documentation: http://pandas.pydata.org/pandas-docs/stable/indexing.html#indexing-view-versus-copy

# Unique Cuisine:  78
K-Means Clustering - Where are high-rated restaurants located?
res_data['Rating category'] = res_data['Rating text'].map({'Not rated': -1, 'Poor':0, 'Average':2, 'Good':3, 'Very Good':4, 'Excellent':5})
tmp = res_data['Aggregate rating'].map(np.round)
a = np.full(tmp.shape[0], False, dtype = bool)
((tmp - res_data['Rating category']).map(np.round)).value_counts()
sys_check = res_data[['Aggregate rating', 'Rating category', 'Votes']].copy()
sys_check['distorted'] = (res_data['Aggregate rating'] - res_data['Rating category']).map(np.round)
sys_check['diff'] = sys_check['Aggregate rating'] - sys_check['Rating category']
res_data = res_data.loc[sys_check['distorted'] != 2, :]
res_data['Rating category'] = res_data['Aggregate rating'].round(0).astype(int)

from sklearn.cluster import KMeans
kmeans = KMeans(n_clusters=7, random_state=0).fit(res_data[['Longitude', 'Latitude']])
res_data['pos'] = kmeans.labels_
pop_local = res_data.groupby('pos')['Longitude', 'Latitude', 'Aggregate rating'].agg({'Longitude':np.mean, 'Latitude':np.mean, 'Aggregate rating':np.median}).reset_index()

with plt.style.context('bmh', after_reset=True):
    pal = sns.color_palette('Spectral', 7)
    plt.figure(figsize = (8,6))
    for i in range(7):
        ix = res_data.pos == i
        plt.scatter(res_data.loc[ix, 'Latitude'], res_data.loc[ix, 'Longitude'], color = pal[i], label = str(i))
        plt.text(pop_local.loc[i, 'Latitude'], pop_local.loc[i, 'Longitude'], str(i) + ': '+str(pop_local.loc[i, 'Aggregate rating'].round(2)), fontsize = 14, color = 'black')
    plt.title('Location-wise Restaurant Median Rating in New Delhi')
    plt.legend()
    plt.show()
    Food Choices Dataset Analysis
food_data = pd.read_csv('food_choices.csv')
food_data.info()
<class 'pandas.core.frame.DataFrame'>
RangeIndex: 125 entries, 0 to 124
Data columns (total 61 columns):
GPA                             123 non-null object
Gender                          125 non-null int64
breakfast                       125 non-null int64
calories_chicken                125 non-null int64
calories_day                    106 non-null float64
calories_scone                  124 non-null float64
coffee                          125 non-null int64
comfort_food                    124 non-null object
comfort_food_reasons            124 non-null object
comfort_food_reasons_coded      106 non-null float64
cook                            122 non-null float64
comfort_food_reasons_coded.1    125 non-null int64
cuisine                         108 non-null float64
diet_current                    124 non-null object
diet_current_coded              125 non-null int64
drink                           123 non-null float64
eating_changes                  122 non-null object
eating_changes_coded            125 non-null int64
eating_changes_coded1           125 non-null int64
eating_out                      125 non-null int64
employment                      116 non-null float64
ethnic_food                     125 non-null int64
exercise                        112 non-null float64
father_education                124 non-null float64
father_profession               122 non-null object
fav_cuisine                     123 non-null object
fav_cuisine_coded               125 non-null int64
fav_food                        123 non-null float64
food_childhood                  124 non-null object
fries                           125 non-null int64
fruit_day                       125 non-null int64
grade_level                     125 non-null int64
greek_food                      125 non-null int64
healthy_feeling                 125 non-null int64
healthy_meal                    124 non-null object
ideal_diet                      124 non-null object
ideal_diet_coded                125 non-null int64
income                          124 non-null float64
indian_food                     125 non-null int64
italian_food                    125 non-null int64
life_rewarding                  124 non-null float64
marital_status                  124 non-null float64
meals_dinner_friend             122 non-null object
mother_education                122 non-null float64
mother_profession               123 non-null object
nutritional_check               125 non-null int64
on_off_campus                   124 non-null float64
parents_cook                    125 non-null int64
pay_meal_out                    125 non-null int64
persian_food                    124 non-null float64
self_perception_weight          124 non-null float64
soup                            124 non-null float64
sports                          123 non-null float64
thai_food                       125 non-null int64
tortilla_calories               124 non-null float64
turkey_calories                 125 non-null int64
type_sports                     104 non-null object
veggies_day                     125 non-null int64
vitamins                        125 non-null int64
waffle_calories                 125 non-null int64
weight                          123 non-null object
dtypes: float64(20), int64(27), object(14)
memory usage: 59.6+ KB
What are some comfort food in various situations such as stress, boredom, hunger, happiness?
food_data[['comfort_food_reasons', 'comfort_food']]
comfort_food_reasons	comfort_food
0	we dont have comfort	none
1	Stress, bored, anger	chocolate, chips, ice cream
2	stress, sadness	frozen yogurt, pizza, fast food
3	Boredom	Pizza, Mac and cheese, ice cream
4	Stress, boredom, cravings	Ice cream, chocolate, chips
5	None, i don't eat comfort food. I just eat whe...	Candy, brownies and soda.
6	stress, boredom	Chocolate, ice cream, french fries, pretzels
7	I eat comfort food when im stressed out from s...	Ice cream, cheeseburgers, chips.
8	Boredom	Donuts, ice cream, chips
9	Stress, anger and sadness	Mac and cheese, chocolate, and pasta
10	Boredom	Pasta, grandma homemade chocolate cake anythin...
11	sadness, stress, cold weather	chocolate, pasta, soup, chips, popcorn
12	Sadness, boredom, late night snack	Cookies, popcorn, and chips
13	stress, boredom, special occasions	ice cream, cake, chocolate
14	Friends, environment and boredom	Pizza, fruit, spaghetti, chicken and Potatoes
15	boredom	cookies, donuts, candy bars
16	Stress	Saltfish, Candy and Kit Kat
17	I usually only eat comfort food when I'm bored...	chips, cookies, ice cream
18	Sadness, stress	Chocolate, ice crea
19	boredom, sadness, hungry	pizza, wings, Chinese
20	happiness, satisfaction	Fast food, pizza, subs
21	Mostly boredom	chocolate, sweets, ice cream
22	sadness, depression	burgers, chips, cookies
23	Stress and boredom	Chilli, soup, pot pie
24	A long day, not feeling well, winter	Soup, pasta, brownies, cake
25	boredom	chocolate, ice cream/milkshake, cookies
26	Boredom, lazyniss	Chips, ice cream, microwaveable foods
27	Boredom	Chicken fingers, pizza
28	survival, bored	cookies, hot chocolate, beef jerky
29	Boredom, anger, drunkeness	Tomato soup, pizza, Fritos, Meatball sub, Dr. ...
...	...	...
95	Boredom, hunger, snacking.	Doritos, mac and cheese, ice cream
96	Happiness, sadness, celebration.	Ice cream, cake, pop, pizza, and milkshakes.
97	Boredom, anger and just being hungry in general.	Mac and Cheese, Pizza, Ice Cream and French Fr...
98	Depression, comfort, accessibility	Soup, pasta, cake
99	they are yummy, my boyfriend sometimes makes m...	mac & cheese, frosted brownies, chicken nuggs
100	Sad, bored, excited	watermelon, grapes, ice cream
101	boredom, stress, mood swings	macaroni and cheese, stuffed peppers, hamburge...
102	Anger, sadness	Pizza, mashed potatoes, spaghetti
103	Anxiousness, watching TV I desire "comfort food"	dark chocolate, terra chips, reese's cups(dark...
104	Boredom, sadness, anxiety	Chips, chocolate, ,mozzarella sticks
105	Boredom, laziness, anger	ice cream, chips, candy
106	Stress and sadness	Pizza, soda, chocolate brownie, chicken tikka ...
107	I am always stressed out, and bored when I am ...	Chocolate, Pasta, Cookies
108	Stress, sadness, boredom	Candy, salty snacks, toast
109	Stress, frustration, self-consciousness	Mac in cheese, pizza, mozzarella sticks
110	Sadness and cravings	Ice-cream, pizza, chocolate
111	boredom	snacks, chips,
112	Sadness, happiness and boredom	Chocolate, Ice cream, pizza
113	Boredom and sadness	ice cream, pizza, Chinese food
114	sadness, happiness and hunger	Burgers, indian and korean food\r
115	Stress, boredom and physical activity	chocolate bar, ice cream, pretzels, potato chi...
116	loneliness, homework, boredom	Ice cream, chocolate, pizza, cucumber
117	When i'm eating with my close friends/ Food s...	Noodle ( any kinds of noodle), Tuna sandwich, ...
118	Stress and boredom	Chinese, chips, cake
119	Happiness, boredom, social event	chips, rice, chicken curry,
120	boredom and sadness	wine. mac and cheese, pizza, ice cream
121	Loneliness / Homesick / Sadness	Pizza / Wings / Cheesecake
122	sadness	rice, potato, seaweed soup
123	happiness, they are some of my favorite foods	Mac n Cheese, Lasagna, Pizza
124	hormones, Premenstrual syndrome.	Chocolates, pizza, and Ritz.
125 rows × 2 columns

def search_comfort(mood):
    lemmatizer = WordNetLemmatizer()
    foodcount = {}
    for i in range(124):
        temp = [temps.strip().replace('.','').replace(',','').lower() for temps in str(food_data["comfort_food_reasons"][i]).split(' ') if temps.strip() not in stop ]
        if mood in temp:
            foodtemp = [lemmatizer.lemmatize(temps.strip().replace('.','').replace(',','').lower()) for temps in str(food_data["comfort_food"][i]).split(',') if temps.strip() not in stop ]
            for a in foodtemp:
                if a not in foodcount.keys():
                    foodcount[a] = 1 
                else:
                    foodcount[a] += 1
    sorted_food = []
    sorted_food = sorted(foodcount, key=foodcount.get, reverse=True)
    return sorted_food


def find_my_comfort_food(mood):
    topn = []
    topn = search_comfort(mood) #function create dictionary only for particular mood
    print("3 Popular Comfort Foods in %s are:"%(mood))
    print(topn[0])
    print(topn[1])
    print(topn[2])
find_my_comfort_food('sad')
3 Popular Comfort Foods in sad are:
ice cream
pizza
chip
Main Part of our Project: Suggesting Restaurants based on User Moods
Under Following Moods
stress
boredom
depression/sadness
hunger
laziness
cold weather
happiness
watching tv
Finding Restaurants based on cuisines
res_data[res_data.Cuisines.str.contains('pizza', case=False)].sort_values(by='Aggregate rating', ascending=False).head(3)
